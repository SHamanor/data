{
 "cells": [
  {
   "cell_type": "code",
   "execution_count": null,
   "metadata": {},
   "outputs": [],
   "source": [
    "import pandas as pd\n",
    "import numpy as np\n",
    "import requests\n",
    "from bs4 import BeautifulSoup\n",
    "from time import sleep\n",
    "import csv\n",
    "\n",
    "\n",
    "\n",
    "#ALL ROWS\n",
    "date = []\n",
    "city = []\n",
    "street = []\n",
    "rooms = []\n",
    "size = []\n",
    "floor = []\n",
    "price = []\n",
    "pricePerMeter = []\n",
    "buildDate = []\n",
    "\n",
    "#GET URLS\n",
    "for i in range(2,10000):\n",
    "    url = f'https://www.ad.co.il/nadlanprice?city=jerusalem,beersheba,ashdod,rishon-lezion,tel-aviv,haifa&pageindex={i}'\n",
    "    \n",
    "    response = requests.get(url)\n",
    "    soup = BeautifulSoup(response.content, 'html.parser')\n",
    "    table = soup.find(\"table\", attrs={\"class\":'table text-nowrap'})\n",
    "    table_rows = table.find_all('tr')\n",
    "    \n",
    "    #GET THE DATA FROM THE GIVEN URL\n",
    "    res = []\n",
    "    for tr in table_rows:\n",
    "        td = tr.find_all('td')\n",
    "        row = [tr.text.strip() for tr in td if tr.text.strip()]\n",
    "        \n",
    "        \n",
    "        if len(row) == 9:\n",
    "            date.append(row[0])\n",
    "            city.append(row[1])\n",
    "            street.append(row[2])\n",
    "            rooms.append(row[3])\n",
    "            size.append(row[4])\n",
    "            floor.append(row[5])\n",
    "            price.append(row[6])\n",
    "            pricePerMeter.append(row[7])\n",
    "            buildDate.append(row[8])    \n",
    "    \n",
    "    if i%10 ==0:    \n",
    "        print(i)\n",
    "    #PUT EVERY 200 PAGES IN THE DATAFRAME AND THEN TO CSV FILE\n",
    "    if i %200 ==0:      \n",
    "        df = pd.DataFrame(list(zip(date, city, street, rooms, size, floor, price, pricePerMeter, buildDate)) , columns=[\"date\",  \"city\", \"street\", \"rooms\", \"size\", \"floor\", \"price\", \"pricePerMeter\", \"buildDate\"])\n",
    "        df.to_csv(\"scrape.csv\",index = False)\n",
    "\n",
    "\n",
    "\n"
   ]
  }
 ],
 "metadata": {
  "interpreter": {
   "hash": "d920a088f737efa591765645ea1a1a8611dc7995a61df6515b0c814c39566aff"
  },
  "kernelspec": {
   "display_name": "Python 3.8.8 64-bit ('base': conda)",
   "language": "python",
   "name": "python3"
  },
  "language_info": {
   "codemirror_mode": {
    "name": "ipython",
    "version": 3
   },
   "file_extension": ".py",
   "mimetype": "text/x-python",
   "name": "python",
   "nbconvert_exporter": "python",
   "pygments_lexer": "ipython3",
   "version": "3.8.8"
  },
  "orig_nbformat": 4
 },
 "nbformat": 4,
 "nbformat_minor": 2
}
